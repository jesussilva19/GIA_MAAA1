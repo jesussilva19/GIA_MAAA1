{
 "cells": [
  {
   "cell_type": "markdown",
   "id": "95075a83",
   "metadata": {},
   "source": [
    "# Introduccion a Julia\n",
    "\n",
    "Para la implementación de los ejercicios prácticos, existen varias opciones en cuanto a lenguaje de programación. Entre las muchas opciones disponibles, se han considerado tres posibilidades:\n",
    "\n",
    "* **Matlab**. Es un lenguaje científico con muchos años de experiencia, por lo que tiene la ventaja de contar con una gran cantidad de módulos (llamados Toolboxes) para casi cualquier operación que se desee realizar, junto con una excelente documentación. Esto lo convierte en un lenguaje muy adecuado para iniciarse y aprender. Sin embargo, su principal desventaja es que es necesario adquirir una licencia para utilizarlo. Este requisito ha hecho que muchas empresas no opten por esta opción, por lo que en la práctica no es tan utilizado como Python en el ámbito empresarial.\n",
    "\n",
    "* **Python**. Sin duda es el más utilizado. Es un lenguaje moderno, sencillo, con una gran cantidad de módulos y abundante documentación, aunque sin llegar al número o calidad de Matlab. Es gratuito y de código abierto, y de propósito general, lo que lo ha convertido en uno de los lenguajes más usados en el mundo empresarial hoy en día. Además, una de las primeras librerías de Deep Learning, llamada TensorFlow, fue desarrollada por Google para este lenguaje, lo que ha aumentado drásticamente la comunidad de desarrolladores de aplicaciones de aprendizaje automático en este lenguaje. Además, bibliotecas como Scikit-Learn también permiten el uso de otras técnicas de aprendizaje automático como árboles de decisión o máquinas de soporte vectorial. El mayor problema de este lenguaje es que no es un lenguaje científico sino de propósito general, y la programación vectorial no está soportada de forma nativa, sino a través de la librería numpy, lo que conlleva una considerable pérdida de rendimiento.\n",
    "\n",
    "* **Julia**. Es un lenguaje emergente, de vida muy corta y completamente científico, desarrollado en el Instituto Tecnológico de Massachusetts (MIT). Su primera versión estable es de hace solo unos pocos años, y actualmente se encuentra en pleno desarrollo. Por esta razón, no cuenta con el mismo número de módulos que Matlab o Python, aunque el número de módulos crece rápidamente, ya que el lenguaje es gratuito y de código abierto. Este lenguaje ha sido desarrollado como un punto intermedio entre Matlab, como lenguaje científico, y Python, como lenguaje sencillo y de código abierto, con una velocidad de ejecución superior a ambos. Sus principales inconvenientes son que la comunidad de desarrolladores no es tan grande como la de Python, y el número de módulos no es tan amplio como el de Matlab, y, dado su corto periodo de vida, aún no se ha hecho presente en el mundo empresarial.\n",
    "\n",
    "Como se ha indicado, es un lenguaje que todavía no tiene una gran presencia a nivel empresarial. Sin embargo, esto se mitiga por tres factores importantes:\n",
    "\n",
    "* Dado que se han adquirido habilidades en el lenguaje Python en otras asignaturas, esta asignatura brinda la oportunidad de aprender un lenguaje científico que completa los conocimientos.\n",
    "\n",
    "* Varias de las instituciones más prestigiosas del mundo, como Berkeley, Stanford o MIT, recomiendan y enseñan esta asignatura en este lenguaje debido al control que ofrece a la hora de investigar o implementar detalles sin perder rendimiento. Esto casi garantiza que en un corto periodo de tiempo comenzará a verse a nivel empresarial.\n",
    "\n",
    "* Aunque Python es el lenguaje más utilizado a nivel empresarial, la librería Scikit-Learn también está disponible en Julia. Por lo tanto, su aprendizaje en esta asignatura significaría que también podrían usarlo en su trabajo en una empresa en Python sin dificultad, ya que tendrían conocimientos tanto de la librería como del lenguaje.\n",
    "\n",
    "## Instalación\n",
    "\n",
    "La instalación de Julia es bastante sencilla, ya sea utilizando binarios precompilados o compilando desde el código fuente. Descarga e instala Julia siguiendo las instrucciones en [https://julialang.org/downloads/].\n",
    "\n",
    "> ⚠️ **Usuarios de Mac más antiguos**: La instalación de Julia puede ser problemática debido a compiladores obsoletos. En caso de errores durante la instalación, podría valer la pena intentar instalarlo a través de [MacPorts](https://ports.macports.org/port/julia/). Tras la [instalación de MacPorts](https://www.macports.org/install.php/), Julia se puede instalar con `sudo port install julia`.\n",
    "\n",
    "También podría ser útil instalar Jupyter en un entorno local para realizar algunas pruebas. Esto se puede hacer ejecutando el siguiente comando, si aún no lo tienes instalado.\n"
   ]
  },
  {
   "cell_type": "markdown",
   "id": "6a128941",
   "metadata": {},
   "source": [
    "Para ejecutarse en la terminal si es necesario, antes de ejecutar cualquier código aquí:\n",
    "```bash\n",
    "        pip install notebook\n",
    "```"
   ]
  },
  {
   "cell_type": "markdown",
   "id": "80d0c277",
   "metadata": {},
   "source": [
    "Después de esa instalación, puedes proceder a instalar el kernel de Julia para Jupyter Notebook. Simplemente abre una terminal y escribe `julia`. Deberías ver el siguiente entorno:\n",
    "\n",
    "![Imagen de inicio de Julia en la terminal](./img/JuliaTerminal.png \"Terminal de Julia\")"
   ]
  },
  {
   "cell_type": "markdown",
   "id": "382e7e24",
   "metadata": {},
   "source": [
    "Para añadir soporte para notebooks, debes ejecutar las siguientes líneas, las cuales cubriremos con más detalle en las siguientes secciones."
   ]
  },
  {
   "cell_type": "markdown",
   "id": "0b1734c0",
   "metadata": {},
   "source": [
    "```julia\n",
    "    using Pkg\n",
    "    Pkg.add(\"IJulia\")\n",
    "    \n",
    "```"
   ]
  },
  {
   "cell_type": "markdown",
   "id": "8f1cb903",
   "metadata": {},
   "source": [
    "Estas líneas están cargando el paquete `Pkg`, que se utiliza para gestionar paquetes en Julia, y estamos añadiendo el paquete `IJulia`. Ahora puedes ejecutar comandos y crear un notebook en Julia dentro de Jupyter Notebooks. El siguiente paso es ejecutar el comando:\n",
    "```bash\n",
    "    jupyter notebook\n",
    "\n",
    "Después de eso, puedes acceder a la dirección URL y crear nuevos notebooks en Python y Julia, o en ambos."
   ]
  },
  {
   "cell_type": "markdown",
   "id": "976c11b4",
   "metadata": {},
   "source": [
    "## Sintaxis básica en Julia\n",
    "\n",
    "Esta sección mostrará algunas operaciones típicas con un doble objetivo: primero, servir como una referencia rápida (cheatsheet), y segundo, asegurar que la configuración previa está funcionando correctamente. Muchos de los ejemplos están basados en este [tutorial](https://learnxinyminutes.com/docs/julia/), que puede ser utilizado como referencia adicional.\n"
   ]
  },
  {
   "cell_type": "markdown",
   "id": "2c6078ba",
   "metadata": {},
   "source": [
    "### Tipos de números\n",
    "\n",
    "En Julia, hay varios tipos de números. Aunque durante la primera práctica profundizaremos en esta cuestión, aquí hay algunos ejemplos de diferentes definiciones.\n"
   ]
  },
  {
   "cell_type": "code",
   "execution_count": 1,
   "id": "68093cf0",
   "metadata": {},
   "outputs": [
    {
     "data": {
      "text/plain": [
       "Int64"
      ]
     },
     "metadata": {},
     "output_type": "display_data"
    }
   ],
   "source": [
    "typeof(2)"
   ]
  },
  {
   "cell_type": "code",
   "execution_count": 2,
   "id": "d769e217",
   "metadata": {},
   "outputs": [
    {
     "data": {
      "text/plain": [
       "Float64"
      ]
     },
     "metadata": {},
     "output_type": "display_data"
    }
   ],
   "source": [
    "typeof(4.0)"
   ]
  },
  {
   "cell_type": "code",
   "execution_count": 3,
   "id": "40b08f5c",
   "metadata": {},
   "outputs": [
    {
     "data": {
      "text/plain": [
       "Complex{Int64}"
      ]
     },
     "metadata": {},
     "output_type": "display_data"
    }
   ],
   "source": [
    "typeof(1 + 1im)"
   ]
  },
  {
   "cell_type": "code",
   "execution_count": 4,
   "id": "4491f1cc",
   "metadata": {},
   "outputs": [
    {
     "data": {
      "text/plain": [
       "Rational{Int64}"
      ]
     },
     "metadata": {},
     "output_type": "display_data"
    }
   ],
   "source": [
    "typeof(2 // 3)"
   ]
  },
  {
   "cell_type": "code",
   "execution_count": 5,
   "id": "983129fd",
   "metadata": {},
   "outputs": [
    {
     "data": {
      "text/plain": [
       "Real"
      ]
     },
     "metadata": {},
     "output_type": "display_data"
    }
   ],
   "source": [
    "supertype(AbstractFloat)"
   ]
  },
  {
   "cell_type": "code",
   "execution_count": 6,
   "id": "b1e4f8b4",
   "metadata": {},
   "outputs": [
    {
     "data": {
      "text/plain": [
       "Number"
      ]
     },
     "metadata": {},
     "output_type": "display_data"
    }
   ],
   "source": [
    "supertype(Real)"
   ]
  },
  {
   "cell_type": "code",
   "execution_count": 7,
   "id": "b0d551e5",
   "metadata": {},
   "outputs": [
    {
     "data": {
      "text/plain": [
       "Any"
      ]
     },
     "metadata": {},
     "output_type": "display_data"
    }
   ],
   "source": [
    "supertype(Number)"
   ]
  },
  {
   "cell_type": "markdown",
   "id": "54e63c0e",
   "metadata": {},
   "source": [
    "### Operadores Booleanos\n",
    "\n",
    "Ten en cuenta que la negación se realiza con `!`."
   ]
  },
  {
   "cell_type": "code",
   "execution_count": 8,
   "id": "13126cf7",
   "metadata": {},
   "outputs": [
    {
     "data": {
      "text/plain": [
       "true"
      ]
     },
     "metadata": {},
     "output_type": "display_data"
    }
   ],
   "source": [
    "(1==1) & !(1!=1)"
   ]
  },
  {
   "cell_type": "markdown",
   "id": "e2522965",
   "metadata": {},
   "source": [
    "### Strings"
   ]
  },
  {
   "cell_type": "code",
   "execution_count": 9,
   "id": "3ef84612",
   "metadata": {},
   "outputs": [
    {
     "data": {
      "text/plain": [
       "String"
      ]
     },
     "metadata": {},
     "output_type": "display_data"
    }
   ],
   "source": [
    "typeof(\"This is a string\")"
   ]
  },
  {
   "cell_type": "code",
   "execution_count": 10,
   "id": "25b37cec",
   "metadata": {},
   "outputs": [
    {
     "data": {
      "text/plain": [
       "true"
      ]
     },
     "metadata": {},
     "output_type": "display_data"
    }
   ],
   "source": [
    "typeof('a') != typeof(\"a\") # the single quote is only for caracters"
   ]
  },
  {
   "cell_type": "code",
   "execution_count": 11,
   "id": "89053a44",
   "metadata": {},
   "outputs": [
    {
     "name": "stdout",
     "output_type": "stream",
     "text": [
      "4 is less than 5.300000"
     ]
    }
   ],
   "source": [
    "using Printf\n",
    "Printf.@printf \"%d is less than %f\" 4.5 5.3"
   ]
  },
  {
   "cell_type": "code",
   "execution_count": 12,
   "id": "6d42148c",
   "metadata": {},
   "outputs": [
    {
     "name": "stdout",
     "output_type": "stream",
     "text": [
      "This is in Julia - 1.10.0\n"
     ]
    }
   ],
   "source": [
    "println(\"This is in Julia - $(VERSION)\")"
   ]
  },
  {
   "cell_type": "markdown",
   "id": "1fbd1e70",
   "metadata": {},
   "source": [
    "### Variable\n",
    "\n",
    "Los nombres de las variables deben comenzar con una letra, pero después de eso, puedes usar letras, dígitos, guiones bajos y signos de exclamación.\n"
   ]
  },
  {
   "cell_type": "code",
   "execution_count": 13,
   "id": "43259794",
   "metadata": {},
   "outputs": [
    {
     "data": {
      "text/plain": [
       "1"
      ]
     },
     "metadata": {},
     "output_type": "display_data"
    }
   ],
   "source": [
    "xMarksTheSpot2Dig! = 1"
   ]
  },
  {
   "cell_type": "code",
   "execution_count": 14,
   "id": "ef9fb8ac",
   "metadata": {},
   "outputs": [
    {
     "data": {
      "text/plain": [
       "Int64[]"
      ]
     },
     "metadata": {},
     "output_type": "display_data"
    }
   ],
   "source": [
    "a = Int64[]"
   ]
  },
  {
   "cell_type": "code",
   "execution_count": 15,
   "id": "a089bcd9",
   "metadata": {},
   "outputs": [
    {
     "data": {
      "text/plain": [
       "1-element Vector{Int64}:\n",
       " 1"
      ]
     },
     "metadata": {},
     "output_type": "display_data"
    }
   ],
   "source": [
    "push!(a, 1)"
   ]
  },
  {
   "cell_type": "code",
   "execution_count": 16,
   "id": "c9c3ef0b",
   "metadata": {},
   "outputs": [
    {
     "data": {
      "text/plain": [
       "2-element Vector{Int64}:\n",
       " 1\n",
       " 2"
      ]
     },
     "metadata": {},
     "output_type": "display_data"
    }
   ],
   "source": [
    "push!(a, 2)"
   ]
  },
  {
   "cell_type": "code",
   "execution_count": 17,
   "id": "16688242",
   "metadata": {
    "scrolled": true
   },
   "outputs": [
    {
     "data": {
      "text/plain": [
       "3-element Vector{Int64}:\n",
       " 3\n",
       " 4\n",
       " 5"
      ]
     },
     "metadata": {},
     "output_type": "display_data"
    }
   ],
   "source": [
    "b = [3, 4, 5]"
   ]
  },
  {
   "cell_type": "code",
   "execution_count": 18,
   "id": "732d012c",
   "metadata": {},
   "outputs": [
    {
     "data": {
      "text/plain": [
       "3"
      ]
     },
     "metadata": {},
     "output_type": "display_data"
    }
   ],
   "source": [
    "b[1]"
   ]
  },
  {
   "cell_type": "code",
   "execution_count": 19,
   "id": "2a05c39d",
   "metadata": {},
   "outputs": [
    {
     "data": {
      "text/plain": [
       "5"
      ]
     },
     "metadata": {},
     "output_type": "display_data"
    }
   ],
   "source": [
    "b[end]"
   ]
  },
  {
   "cell_type": "code",
   "execution_count": 20,
   "id": "ecc49a0c",
   "metadata": {},
   "outputs": [
    {
     "data": {
      "text/plain": [
       "5-element Vector{Int64}:\n",
       " 1\n",
       " 2\n",
       " 3\n",
       " 4\n",
       " 5"
      ]
     },
     "metadata": {},
     "output_type": "display_data"
    }
   ],
   "source": [
    "append!(a, b)"
   ]
  },
  {
   "cell_type": "code",
   "execution_count": 21,
   "id": "8bb1f306",
   "metadata": {},
   "outputs": [
    {
     "data": {
      "text/plain": [
       "5"
      ]
     },
     "metadata": {},
     "output_type": "display_data"
    }
   ],
   "source": [
    "pop!(a)"
   ]
  },
  {
   "cell_type": "code",
   "execution_count": 22,
   "id": "353b6c94",
   "metadata": {},
   "outputs": [
    {
     "data": {
      "text/plain": [
       "2-element Vector{Int64}:\n",
       " 2\n",
       " 3"
      ]
     },
     "metadata": {},
     "output_type": "display_data"
    }
   ],
   "source": [
    "a[2:3]"
   ]
  },
  {
   "cell_type": "code",
   "execution_count": 23,
   "id": "ca4a26aa",
   "metadata": {},
   "outputs": [
    {
     "data": {
      "text/plain": [
       "true"
      ]
     },
     "metadata": {},
     "output_type": "display_data"
    }
   ],
   "source": [
    "4 in a"
   ]
  },
  {
   "cell_type": "code",
   "execution_count": 24,
   "id": "7ac03623",
   "metadata": {
    "scrolled": true
   },
   "outputs": [
    {
     "data": {
      "text/plain": [
       "4"
      ]
     },
     "metadata": {},
     "output_type": "display_data"
    }
   ],
   "source": [
    "length(a)"
   ]
  },
  {
   "cell_type": "markdown",
   "id": "2a78acf8",
   "metadata": {},
   "source": [
    "### Tuplas"
   ]
  },
  {
   "cell_type": "code",
   "execution_count": 25,
   "id": "39028956",
   "metadata": {},
   "outputs": [
    {
     "data": {
      "text/plain": [
       "Tuple{Int64, Int64, Int64}"
      ]
     },
     "metadata": {},
     "output_type": "display_data"
    }
   ],
   "source": [
    "a = (1, 5, 3)\n",
    "typeof(a)"
   ]
  },
  {
   "cell_type": "code",
   "execution_count": 26,
   "id": "ce029a9f",
   "metadata": {},
   "outputs": [
    {
     "data": {
      "text/plain": [
       "5"
      ]
     },
     "metadata": {},
     "output_type": "display_data"
    }
   ],
   "source": [
    "a[2]"
   ]
  },
  {
   "cell_type": "code",
   "execution_count": 27,
   "id": "fddebdd4",
   "metadata": {},
   "outputs": [
    {
     "data": {
      "text/plain": [
       "(1, 2, 3)"
      ]
     },
     "metadata": {},
     "output_type": "display_data"
    }
   ],
   "source": [
    "a, b, c = (1, 2, 3)"
   ]
  },
  {
   "cell_type": "code",
   "execution_count": 28,
   "id": "a863b29d",
   "metadata": {},
   "outputs": [
    {
     "name": "stdout",
     "output_type": "stream",
     "text": [
      " First element is 1, Second is 2, and last is 3\n"
     ]
    }
   ],
   "source": [
    "println(\" First element is $(a), Second is $(b), and last is $(c)\")"
   ]
  },
  {
   "cell_type": "code",
   "execution_count": 29,
   "id": "0cc16427",
   "metadata": {},
   "outputs": [
    {
     "data": {
      "text/plain": [
       "(x = 1, y = 2, z = 3)"
      ]
     },
     "metadata": {},
     "output_type": "display_data"
    }
   ],
   "source": [
    "n = (x=1, y=2, z=3) # use keyword assignments in a tuple to create a NamedTuple"
   ]
  },
  {
   "cell_type": "code",
   "execution_count": 30,
   "id": "17033d10",
   "metadata": {},
   "outputs": [
    {
     "name": "stdout",
     "output_type": "stream",
     "text": [
      " First element is 1, Second is 2, and last is 3\n"
     ]
    }
   ],
   "source": [
    "println(\" First element is $(n.x), Second is $(n.y), and last is $(n.z)\")"
   ]
  },
  {
   "cell_type": "markdown",
   "id": "3911ecd2",
   "metadata": {},
   "source": [
    "### Diccionarios"
   ]
  },
  {
   "cell_type": "code",
   "execution_count": 31,
   "id": "7ee24c7b",
   "metadata": {},
   "outputs": [
    {
     "data": {
      "text/plain": [
       "Dict{String, Int64} with 3 entries:\n",
       "  \"two\"   => 2\n",
       "  \"one\"   => 1\n",
       "  \"three\" => 3"
      ]
     },
     "metadata": {},
     "output_type": "display_data"
    }
   ],
   "source": [
    "d = Dict(\"one\"=>1, \"two\"=>2, \"three\"=>3)"
   ]
  },
  {
   "cell_type": "code",
   "execution_count": 32,
   "id": "d2c68e4c",
   "metadata": {},
   "outputs": [
    {
     "data": {
      "text/plain": [
       "1"
      ]
     },
     "metadata": {},
     "output_type": "display_data"
    }
   ],
   "source": [
    "d[\"one\"]"
   ]
  },
  {
   "cell_type": "code",
   "execution_count": 33,
   "id": "e0392a5e",
   "metadata": {},
   "outputs": [
    {
     "data": {
      "text/plain": [
       "KeySet for a Dict{String, Int64} with 3 entries. Keys:\n",
       "  \"two\"\n",
       "  \"one\"\n",
       "  \"three\""
      ]
     },
     "metadata": {},
     "output_type": "display_data"
    }
   ],
   "source": [
    "keys(d)"
   ]
  },
  {
   "cell_type": "code",
   "execution_count": 34,
   "id": "9bcb33f3",
   "metadata": {},
   "outputs": [
    {
     "data": {
      "text/plain": [
       "ValueIterator for a Dict{String, Int64} with 3 entries. Values:\n",
       "  2\n",
       "  1\n",
       "  3"
      ]
     },
     "metadata": {},
     "output_type": "display_data"
    }
   ],
   "source": [
    "values(d)"
   ]
  },
  {
   "cell_type": "code",
   "execution_count": 35,
   "id": "63dd185d",
   "metadata": {},
   "outputs": [
    {
     "data": {
      "text/plain": [
       "true"
      ]
     },
     "metadata": {},
     "output_type": "display_data"
    }
   ],
   "source": [
    "haskey(d, \"one\")"
   ]
  },
  {
   "cell_type": "markdown",
   "id": "60e4a1cd",
   "metadata": {},
   "source": [
    "### Control de Flujo"
   ]
  },
  {
   "cell_type": "code",
   "execution_count": 38,
   "id": "ba39b69a",
   "metadata": {},
   "outputs": [
    {
     "name": "stdout",
     "output_type": "stream",
     "text": [
      "The else branch os also optional\n"
     ]
    }
   ],
   "source": [
    "condition_var = 10\n",
    "\n",
    "# if-then=else\n",
    "# Indentation is not meaningful in Julia.\n",
    "\n",
    "if condition_var > 10\n",
    "    println(\"If branch is mandatory\")\n",
    "elseif condition_var < 10    \n",
    "    println(\"Elseif branch is optional\")\n",
    "else                    \n",
    "    println(\"The else branch os also optional\")\n",
    "end"
   ]
  },
  {
   "cell_type": "code",
   "execution_count": 39,
   "id": "0076c494",
   "metadata": {},
   "outputs": [
    {
     "name": "stdout",
     "output_type": "stream",
     "text": [
      "dog is a mammal\n",
      "cat is a mammal\n",
      "mouse is a mammal\n"
     ]
    }
   ],
   "source": [
    "# The for loop can work on iterables\n",
    "for animal in [\"dog\", \"cat\", \"mouse\"]\n",
    "    println(\"$animal is a mammal\")\n",
    "    # You can use $ to interpolate variables or expression into strings\n",
    "end"
   ]
  },
  {
   "cell_type": "code",
   "execution_count": 40,
   "id": "1bd23712",
   "metadata": {},
   "outputs": [
    {
     "name": "stdout",
     "output_type": "stream",
     "text": [
      "mouse is a mammal\n",
      "cat is a mammal\n",
      "dog is a mammal\n"
     ]
    }
   ],
   "source": [
    "for (k,v) in Dict(\"dog\"=>\"mammal\",\"cat\"=>\"mammal\",\"mouse\"=>\"mammal\")\n",
    "    println(\"$k is a $v\")\n",
    "end"
   ]
  },
  {
   "cell_type": "code",
   "execution_count": 41,
   "id": "643fc957",
   "metadata": {},
   "outputs": [
    {
     "name": "stdout",
     "output_type": "stream",
     "text": [
      "0\n",
      "1\n",
      "2\n",
      "3\n"
     ]
    }
   ],
   "source": [
    "# The while loop\n",
    "x = 0\n",
    "while x < 4\n",
    "    global x # be aware that the variable which is changed is the global one\n",
    "    println(x)\n",
    "    x += 1  # Shorthand for x = x + 1\n",
    "end"
   ]
  },
  {
   "cell_type": "markdown",
   "id": "d1b96491",
   "metadata": {},
   "source": [
    "### Funciones"
   ]
  },
  {
   "cell_type": "code",
   "execution_count": 42,
   "id": "69b0e334",
   "metadata": {},
   "outputs": [
    {
     "data": {
      "text/plain": [
       "defaults (generic function with 3 methods)"
      ]
     },
     "metadata": {},
     "output_type": "display_data"
    }
   ],
   "source": [
    "# You can define a function with or without defatult values\n",
    "function defaults(a, b, x=5, y=6)\n",
    "    return \"$a $b and $x $y\"\n",
    "end"
   ]
  },
  {
   "cell_type": "code",
   "execution_count": null,
   "id": "505aff0f",
   "metadata": {},
   "outputs": [
    {
     "data": {
      "text/plain": [
       "\"h g and 5 6\""
      ]
     },
     "metadata": {},
     "output_type": "display_data"
    }
   ],
   "source": [
    "defaults('h', 'g')  # => \"h g and j 6\""
   ]
  },
  {
   "cell_type": "code",
   "execution_count": 45,
   "id": "8b7c615e",
   "metadata": {},
   "outputs": [
    {
     "name": "stdout",
     "output_type": "stream",
     "text": [
      "MethodError(defaults, ('h',), 0x0000000000007b02)\n"
     ]
    }
   ],
   "source": [
    "try\n",
    "    defaults('h')  # => ERROR: MethodError: no method matching defaults(::Char)\n",
    "catch e\n",
    "    println(e)\n",
    "end"
   ]
  },
  {
   "cell_type": "code",
   "execution_count": 46,
   "id": "653d6b28",
   "metadata": {},
   "outputs": [
    {
     "name": "stdout",
     "output_type": "stream",
     "text": [
      "normal arg: normal\n",
      "optional arg: 2\n",
      "keyword arg: foo\n"
     ]
    }
   ],
   "source": [
    "function all_the_args(normalArg, optionalPositionalArg=2; keywordArg=\"foo\")\n",
    "    println(\"normal arg: $normalArg\")\n",
    "    println(\"optional arg: $optionalPositionalArg\")\n",
    "    println(\"keyword arg: $keywordArg\")\n",
    "end\n",
    "\n",
    "all_the_args(\"normal\")"
   ]
  },
  {
   "cell_type": "code",
   "execution_count": 47,
   "id": "551abb9c",
   "metadata": {},
   "outputs": [
    {
     "data": {
      "text/plain": [
       "4"
      ]
     },
     "metadata": {},
     "output_type": "display_data"
    }
   ],
   "source": [
    "# Lambda expressions\n",
    "(x -> x+1)(3)"
   ]
  },
  {
   "cell_type": "code",
   "execution_count": 48,
   "id": "ac40f9d3",
   "metadata": {},
   "outputs": [
    {
     "data": {
      "text/plain": [
       "create_adder (generic function with 1 method)"
      ]
     },
     "metadata": {},
     "output_type": "display_data"
    }
   ],
   "source": [
    "# Julia has first class functions\n",
    "function create_adder(x)\n",
    "    adder = function (y)\n",
    "        return x + y\n",
    "    end\n",
    "    return adder\n",
    "end"
   ]
  },
  {
   "cell_type": "code",
   "execution_count": 49,
   "id": "9b9efe20",
   "metadata": {},
   "outputs": [
    {
     "data": {
      "text/plain": [
       "create_adder (generic function with 1 method)"
      ]
     },
     "metadata": {},
     "output_type": "display_data"
    }
   ],
   "source": [
    "# This function is identical to create_adder implementation above.\n",
    "function create_adder(x)\n",
    "    y -> x + y\n",
    "end"
   ]
  },
  {
   "cell_type": "code",
   "execution_count": 50,
   "id": "6ce5b189",
   "metadata": {},
   "outputs": [
    {
     "data": {
      "text/plain": [
       "create_adder (generic function with 1 method)"
      ]
     },
     "metadata": {},
     "output_type": "display_data"
    }
   ],
   "source": [
    "# You can also name the internal function, if you want\n",
    "function create_adder(x)\n",
    "    function adder(y)\n",
    "        x + y\n",
    "    end\n",
    "    adder\n",
    "end"
   ]
  },
  {
   "cell_type": "code",
   "execution_count": 51,
   "id": "e230520e",
   "metadata": {},
   "outputs": [
    {
     "data": {
      "text/plain": [
       "3-element Vector{Int64}:\n",
       " 11\n",
       " 12\n",
       " 13"
      ]
     },
     "metadata": {},
     "output_type": "display_data"
    }
   ],
   "source": [
    "f = create_adder(10)\n",
    "map(f, [1,2,3])"
   ]
  },
  {
   "cell_type": "code",
   "execution_count": 52,
   "id": "63030e98",
   "metadata": {},
   "outputs": [
    {
     "data": {
      "text/plain": [
       "2-element Vector{Int64}:\n",
       " 6\n",
       " 7"
      ]
     },
     "metadata": {},
     "output_type": "display_data"
    }
   ],
   "source": [
    "filter(x -> x > 5, [3, 4, 5, 6, 7])"
   ]
  },
  {
   "cell_type": "code",
   "execution_count": 53,
   "id": "d2183d64",
   "metadata": {},
   "outputs": [
    {
     "data": {
      "text/plain": [
       "3-element Vector{Int64}:\n",
       " 11\n",
       " 12\n",
       " 13"
      ]
     },
     "metadata": {},
     "output_type": "display_data"
    }
   ],
   "source": [
    "[f(i) for i in [1, 2, 3]]"
   ]
  },
  {
   "cell_type": "markdown",
   "id": "8f10172b",
   "metadata": {},
   "source": [
    "### Typos compuestos\n",
    "Julia soporta la definición de nuevos tipos en una jerarquía que permite la herencia de métodos y propiedades. También permitirá el despacho múltiple.\n"
   ]
  },
  {
   "cell_type": "code",
   "execution_count": 54,
   "id": "f0e7c9ec",
   "metadata": {},
   "outputs": [
    {
     "data": {
      "text/plain": [
       "Any[]"
      ]
     },
     "metadata": {},
     "output_type": "display_data"
    }
   ],
   "source": [
    "abstract type Cat end # just a name and point in the type hierarchy\n",
    "subtypes(Cat)"
   ]
  },
  {
   "cell_type": "code",
   "execution_count": 55,
   "id": "6d7392f8",
   "metadata": {},
   "outputs": [
    {
     "data": {
      "text/plain": [
       "2-element Vector{Any}:\n",
       " Lion\n",
       " Panther"
      ]
     },
     "metadata": {},
     "output_type": "display_data"
    }
   ],
   "source": [
    "# <: is the subtyping operator\n",
    "struct Lion <: Cat # Lion is a subtype of Cat\n",
    "    mane_color\n",
    "    roar::String\n",
    "end\n",
    "\n",
    "struct Panther <: Cat # Panther is also a subtype of Cat\n",
    "  eye_color\n",
    "  Panther() = new(\"green\")\n",
    "  # Panthers will only have this constructor, and no default constructor.\n",
    "end\n",
    "\n",
    "# Also it is not required to inheritance anything\n",
    "struct Tiger\n",
    "  taillength::Float64\n",
    "  coatcolor # not including a type annotation is the same as `::Any`\n",
    "end\n",
    "\n",
    "subtypes(Cat)"
   ]
  },
  {
   "cell_type": "code",
   "execution_count": 56,
   "id": "cdba4397",
   "metadata": {},
   "outputs": [
    {
     "data": {
      "text/plain": [
       "voice (generic function with 3 methods)"
      ]
     },
     "metadata": {},
     "output_type": "display_data"
    }
   ],
   "source": [
    "function voice(animal::Lion)\n",
    "  animal.roar # access type properties using dot notation\n",
    "end\n",
    "\n",
    "function voice(animal::Panther)\n",
    "  \"grrr\"\n",
    "end\n",
    "\n",
    "function voice(animal::Tiger)\n",
    "  \"rawwwr\"\n",
    "end"
   ]
  },
  {
   "cell_type": "code",
   "execution_count": 57,
   "id": "0c6d5461",
   "metadata": {},
   "outputs": [
    {
     "name": "stdout",
     "output_type": "stream",
     "text": [
      "The Tiger says rawwwr\n",
      "The Lion says ROAAAR\n",
      "The Lion says grrr\n"
     ]
    }
   ],
   "source": [
    "println(\"The Tiger says $(voice(Tiger(3.5,\"orange\")))\")\n",
    "println(\"The Lion says $(voice(Lion(\"brown\",\"ROAAAR\")))\")\n",
    "println(\"The Lion says $(voice(Panther()))\")"
   ]
  },
  {
   "cell_type": "markdown",
   "id": "56aa2e90",
   "metadata": {},
   "source": [
    "### Código Nativo"
   ]
  },
  {
   "cell_type": "code",
   "execution_count": 58,
   "id": "91dbab59",
   "metadata": {},
   "outputs": [
    {
     "data": {
      "text/plain": [
       "Add (generic function with 1 method)"
      ]
     },
     "metadata": {},
     "output_type": "display_data"
    }
   ],
   "source": [
    "Add(x, y) = x + y"
   ]
  },
  {
   "cell_type": "code",
   "execution_count": 59,
   "id": "ee470fd9",
   "metadata": {},
   "outputs": [
    {
     "data": {
      "text/plain": [
       "9"
      ]
     },
     "metadata": {},
     "output_type": "display_data"
    }
   ],
   "source": [
    "Add(4,5)"
   ]
  },
  {
   "cell_type": "code",
   "execution_count": 60,
   "id": "eb1a7277",
   "metadata": {},
   "outputs": [
    {
     "name": "stdout",
     "output_type": "stream",
     "text": [
      "\t\u001b[0m.text\n",
      "\t\u001b[0m.file\t\u001b[0m\"Add\"\n",
      "\t\u001b[0m.globl\t\u001b[0mjulia_Add_2152                  \u001b[90m# -- Begin function julia_Add_2152\u001b[39m\n",
      "\t\u001b[0m.p2align\t\u001b[33m4\u001b[39m\u001b[0m, \u001b[33m0x90\u001b[39m\n",
      "\t\u001b[0m.type\t\u001b[0mjulia_Add_2152\u001b[0m,\u001b[0m@function\n",
      "\u001b[91mjulia_Add_2152:\u001b[39m                         \u001b[90m# @julia_Add_2152\u001b[39m\n",
      "\u001b[90m; ┌ @ c:\\Users\\Alberto S\\Desktop\\GIA_MAAA1\\jl_notebook_cell_df34fa98e69747e1a8f8a730347b8e2f_Y131sZmlsZQ==.jl:1 within `Add`\u001b[39m\n",
      "\t\u001b[0m.cfi_startproc\n",
      "\u001b[90m# %bb.0:                                # %top\u001b[39m\n",
      "\t\u001b[96m\u001b[1mpush\u001b[22m\u001b[39m\t\u001b[0mrbp\n",
      "\t\u001b[0m.cfi_def_cfa_offset \u001b[33m16\u001b[39m\n",
      "\t\u001b[0m.cfi_offset \u001b[0mrbp\u001b[0m, \u001b[33m-16\u001b[39m\n",
      "\t\u001b[96m\u001b[1mmov\u001b[22m\u001b[39m\t\u001b[0mrbp\u001b[0m, \u001b[0mrsp\n",
      "\t\u001b[0m.cfi_def_cfa_register \u001b[0mrbp\n",
      "                                        \u001b[90m# kill: def $edx killed $edx def $rdx\u001b[39m\n",
      "                                        \u001b[90m# kill: def $ecx killed $ecx def $rcx\u001b[39m\n",
      "\u001b[90m; │┌ @ int.jl:87 within `+`\u001b[39m\n",
      "\t\u001b[96m\u001b[1mlea\u001b[22m\u001b[39m\t\u001b[0meax\u001b[0m, \u001b[33m[\u001b[39m\u001b[0mrcx \u001b[0m+ \u001b[0mrdx\u001b[33m]\u001b[39m\n",
      "\u001b[90m; │└\u001b[39m\n",
      "\t\u001b[96m\u001b[1mpop\u001b[22m\u001b[39m\t\u001b[0mrbp\n",
      "\t\u001b[96m\u001b[1mret\u001b[22m\u001b[39m\n",
      "\u001b[91m.Lfunc_end0:\u001b[39m\n",
      "\t\u001b[0m.size\t\u001b[0mjulia_Add_2152\u001b[0m, \u001b[0m.Lfunc_end0-julia_Add_2152\n",
      "\t\u001b[0m.cfi_endproc\n",
      "\u001b[90m; └\u001b[39m\n",
      "                                        \u001b[90m# -- End function\u001b[39m\n",
      "\t\u001b[0m.section\t\u001b[0m\".note.GNU-stack\"\u001b[0m,\u001b[0m\"\"\u001b[0m,\u001b[0m@progbits\n"
     ]
    }
   ],
   "source": [
    "code_native(Add, (Int32,Int32), syntax = :intel)"
   ]
  },
  {
   "cell_type": "code",
   "execution_count": 4,
   "id": "2a9a527d",
   "metadata": {},
   "outputs": [
    {
     "name": "stdout",
     "output_type": "stream",
     "text": [
      "\t\u001b[0m.text\n",
      "\t\u001b[0m.file\t\u001b[0m\"Add\"\n",
      "\t\u001b[0m.globl\t\u001b[0mjulia_Add_826                   \u001b[90m# -- Begin function julia_Add_826\u001b[39m\n",
      "\t\u001b[0m.p2align\t\u001b[33m4\u001b[39m\u001b[0m, \u001b[33m0x90\u001b[39m\n",
      "\t\u001b[0m.type\t\u001b[0mjulia_Add_826\u001b[0m,\u001b[0m@function\n",
      "\u001b[91mjulia_Add_826:\u001b[39m                          \u001b[90m# @julia_Add_826\u001b[39m\n",
      "\u001b[90m; ┌ @ In[1]:1 within `Add`\u001b[39m\n",
      "\u001b[90m# %bb.0:                                # %top\u001b[39m\n",
      "\t\u001b[96m\u001b[1mpush\u001b[22m\u001b[39m\t\u001b[0mrbp\n",
      "\t\u001b[96m\u001b[1mmov\u001b[22m\u001b[39m\t\u001b[0mrbp\u001b[0m, \u001b[0mrsp\n",
      "\u001b[90m; │┌ @ float.jl:409 within `+`\u001b[39m\n",
      "\t\u001b[96m\u001b[1mvaddss\u001b[22m\u001b[39m\t\u001b[0mxmm0\u001b[0m, \u001b[0mxmm0\u001b[0m, \u001b[0mxmm1\n",
      "\u001b[90m; │└\u001b[39m\n",
      "\t\u001b[96m\u001b[1mpop\u001b[22m\u001b[39m\t\u001b[0mrbp\n",
      "\t\u001b[96m\u001b[1mret\u001b[22m\u001b[39m\n",
      "\u001b[91m.Lfunc_end0:\u001b[39m\n",
      "\t\u001b[0m.size\t\u001b[0mjulia_Add_826\u001b[0m, \u001b[0m.Lfunc_end0-julia_Add_826\n",
      "\u001b[90m; └\u001b[39m\n",
      "                                        \u001b[90m# -- End function\u001b[39m\n",
      "\t\u001b[0m.section\t\u001b[0m\".note.GNU-stack\"\u001b[0m,\u001b[0m\"\"\u001b[0m,\u001b[0m@progbits\n"
     ]
    }
   ],
   "source": [
    "code_native(Add, (Float32,Float32), syntax = :intel)"
   ]
  },
  {
   "cell_type": "code",
   "execution_count": 5,
   "id": "db517a1e",
   "metadata": {},
   "outputs": [
    {
     "name": "stdout",
     "output_type": "stream",
     "text": [
      "\u001b[90m;  @ In[1]:1 within `Add`\u001b[39m\n",
      "\u001b[95mdefine\u001b[39m \u001b[36mi32\u001b[39m \u001b[93m@julia_Add_858\u001b[39m\u001b[33m(\u001b[39m\u001b[36mi32\u001b[39m \u001b[95msignext\u001b[39m \u001b[0m%0\u001b[0m, \u001b[36mi32\u001b[39m \u001b[95msignext\u001b[39m \u001b[0m%1\u001b[33m)\u001b[39m \u001b[0m#0 \u001b[33m{\u001b[39m\n",
      "\u001b[91mtop:\u001b[39m\n",
      "\u001b[90m; ┌ @ int.jl:87 within `+`\u001b[39m\n",
      "   \u001b[0m%2 \u001b[0m= \u001b[96m\u001b[1madd\u001b[22m\u001b[39m \u001b[36mi32\u001b[39m \u001b[0m%1\u001b[0m, \u001b[0m%0\n",
      "\u001b[90m; └\u001b[39m\n",
      "  \u001b[96m\u001b[1mret\u001b[22m\u001b[39m \u001b[36mi32\u001b[39m \u001b[0m%2\n",
      "\u001b[33m}\u001b[39m\n"
     ]
    }
   ],
   "source": [
    "code_llvm(Add, (Int32,Int32))"
   ]
  },
  {
   "cell_type": "code",
   "execution_count": null,
   "id": "522ecc1b",
   "metadata": {},
   "outputs": [],
   "source": []
  }
 ],
 "metadata": {
  "kernelspec": {
   "display_name": "Julia 1.10.0",
   "language": "julia",
   "name": "julia-1.10"
  },
  "language_info": {
   "file_extension": ".jl",
   "mimetype": "application/julia",
   "name": "julia",
   "version": "1.10.0"
  }
 },
 "nbformat": 4,
 "nbformat_minor": 5
}
